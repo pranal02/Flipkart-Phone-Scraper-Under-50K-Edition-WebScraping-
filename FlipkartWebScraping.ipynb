{
 "cells": [
  {
   "cell_type": "code",
   "execution_count": 1,
   "id": "4c5383e9-e965-46c3-85a7-aa65bc3ec329",
   "metadata": {},
   "outputs": [],
   "source": [
    "import pandas as pd\n",
    "import requests\n",
    "from bs4 import BeautifulSoup\n",
    "Product_name=[]\n",
    "Prices=[]\n",
    "Description=[]\n",
    "\n"
   ]
  },
  {
   "cell_type": "code",
   "execution_count": null,
   "id": "9afe9423-08e2-4d0c-9705-2613fea280a8",
   "metadata": {},
   "outputs": [],
   "source": [
    "for i in range(2,10):\n",
    "    URL = \"https://www.flipkart.com/search?q=mobiles+under+50000&otracker=search&otracker1=search&marketplace=FLIPKART&as-show=on&as=off&page=\"+str(i)\n",
    "    HEADERS = ({'User-Agent':'Mozilla/5.0 (Windows NT 10.0; Win64; x64) AppleWebKit/537.36 (KHTML, like Gecko) Chrome/123.0.0.0 Safari/537.36','Accept-Language':'en-US,en;q=0.5'})\n",
    "    r= requests.get(URL,headers=HEADERS)\n",
    "    soup = BeautifulSoup(r.text,\"lxml\")\n",
    "    box = soup.find(\"div\",class_=\"DOjaWF gdgoEp\")\n",
    "    names =box.find_all(\"div\",class_=\"KzDlHZ\")\n",
    "    for i in names:\n",
    "        name=i.text\n",
    "        Product_name.append(name)\n",
    "    \n",
    "    prices = soup.find_all(\"div\",class_=\"Nx9bqj _4b5DiR\")\n",
    "    for i in prices:\n",
    "        price=i.text.strip()\n",
    "        Prices.append(price)\n",
    "    \n",
    "    desc=box.find_all(\"ul\",class_=\"G4BRas\")\n",
    "    for i in desc:\n",
    "        d=i.text\n",
    "        Description.append(d)\n",
    "    \n",
    "   "
   ]
  },
  {
   "cell_type": "code",
   "execution_count": null,
   "id": "29821722-ad1e-4674-9c9e-2cd167c6e42c",
   "metadata": {},
   "outputs": [],
   "source": [
    "df=pd.DataFrame({\"Product Name\":Product_name,\"Price\":Prices,\"Description\":Description})\n",
    "df.to_csv(\"C:/Users/DELL/Documents/Pythons Projects/WebScraping/Flipkart_WebScraping/details.csv\")\n"
   ]
  },
  {
   "cell_type": "code",
   "execution_count": null,
   "id": "ad2f24f2-c3bb-4cb1-8eb4-0268a3263c50",
   "metadata": {},
   "outputs": [],
   "source": []
  }
 ],
 "metadata": {
  "kernelspec": {
   "display_name": "Python 3 (ipykernel)",
   "language": "python",
   "name": "python3"
  },
  "language_info": {
   "codemirror_mode": {
    "name": "ipython",
    "version": 3
   },
   "file_extension": ".py",
   "mimetype": "text/x-python",
   "name": "python",
   "nbconvert_exporter": "python",
   "pygments_lexer": "ipython3",
   "version": "3.11.7"
  }
 },
 "nbformat": 4,
 "nbformat_minor": 5
}
